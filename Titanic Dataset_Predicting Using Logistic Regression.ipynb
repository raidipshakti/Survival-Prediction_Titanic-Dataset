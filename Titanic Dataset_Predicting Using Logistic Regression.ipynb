{
 "cells": [
  {
   "cell_type": "code",
   "execution_count": 1,
   "id": "135c9bb6-980e-42ca-8b4b-5f1ee5afc3df",
   "metadata": {},
   "outputs": [],
   "source": [
    "import numpy as np\n",
    "import pandas as pd\n",
    "import matplotlib.pyplot as plt\n",
    "import seaborn as sns"
   ]
  },
  {
   "cell_type": "code",
   "execution_count": 2,
   "id": "03ed143b-3897-468d-b8c2-1c81ef303600",
   "metadata": {},
   "outputs": [
    {
     "data": {
      "text/html": [
       "<div>\n",
       "<style scoped>\n",
       "    .dataframe tbody tr th:only-of-type {\n",
       "        vertical-align: middle;\n",
       "    }\n",
       "\n",
       "    .dataframe tbody tr th {\n",
       "        vertical-align: top;\n",
       "    }\n",
       "\n",
       "    .dataframe thead th {\n",
       "        text-align: right;\n",
       "    }\n",
       "</style>\n",
       "<table border=\"1\" class=\"dataframe\">\n",
       "  <thead>\n",
       "    <tr style=\"text-align: right;\">\n",
       "      <th></th>\n",
       "      <th>PassengerId</th>\n",
       "      <th>Survived</th>\n",
       "      <th>Pclass</th>\n",
       "      <th>Name</th>\n",
       "      <th>Sex</th>\n",
       "      <th>Age</th>\n",
       "      <th>SibSp</th>\n",
       "      <th>Parch</th>\n",
       "      <th>Ticket</th>\n",
       "      <th>Fare</th>\n",
       "      <th>Cabin</th>\n",
       "      <th>Embarked</th>\n",
       "    </tr>\n",
       "  </thead>\n",
       "  <tbody>\n",
       "    <tr>\n",
       "      <th>0</th>\n",
       "      <td>1</td>\n",
       "      <td>0</td>\n",
       "      <td>3</td>\n",
       "      <td>Braund, Mr. Owen Harris</td>\n",
       "      <td>male</td>\n",
       "      <td>22.0</td>\n",
       "      <td>1</td>\n",
       "      <td>0</td>\n",
       "      <td>A/5 21171</td>\n",
       "      <td>7.2500</td>\n",
       "      <td>NaN</td>\n",
       "      <td>S</td>\n",
       "    </tr>\n",
       "    <tr>\n",
       "      <th>1</th>\n",
       "      <td>2</td>\n",
       "      <td>1</td>\n",
       "      <td>1</td>\n",
       "      <td>Cumings, Mrs. John Bradley (Florence Briggs Th...</td>\n",
       "      <td>female</td>\n",
       "      <td>38.0</td>\n",
       "      <td>1</td>\n",
       "      <td>0</td>\n",
       "      <td>PC 17599</td>\n",
       "      <td>71.2833</td>\n",
       "      <td>C85</td>\n",
       "      <td>C</td>\n",
       "    </tr>\n",
       "    <tr>\n",
       "      <th>2</th>\n",
       "      <td>3</td>\n",
       "      <td>1</td>\n",
       "      <td>3</td>\n",
       "      <td>Heikkinen, Miss. Laina</td>\n",
       "      <td>female</td>\n",
       "      <td>26.0</td>\n",
       "      <td>0</td>\n",
       "      <td>0</td>\n",
       "      <td>STON/O2. 3101282</td>\n",
       "      <td>7.9250</td>\n",
       "      <td>NaN</td>\n",
       "      <td>S</td>\n",
       "    </tr>\n",
       "    <tr>\n",
       "      <th>3</th>\n",
       "      <td>4</td>\n",
       "      <td>1</td>\n",
       "      <td>1</td>\n",
       "      <td>Futrelle, Mrs. Jacques Heath (Lily May Peel)</td>\n",
       "      <td>female</td>\n",
       "      <td>35.0</td>\n",
       "      <td>1</td>\n",
       "      <td>0</td>\n",
       "      <td>113803</td>\n",
       "      <td>53.1000</td>\n",
       "      <td>C123</td>\n",
       "      <td>S</td>\n",
       "    </tr>\n",
       "    <tr>\n",
       "      <th>4</th>\n",
       "      <td>5</td>\n",
       "      <td>0</td>\n",
       "      <td>3</td>\n",
       "      <td>Allen, Mr. William Henry</td>\n",
       "      <td>male</td>\n",
       "      <td>35.0</td>\n",
       "      <td>0</td>\n",
       "      <td>0</td>\n",
       "      <td>373450</td>\n",
       "      <td>8.0500</td>\n",
       "      <td>NaN</td>\n",
       "      <td>S</td>\n",
       "    </tr>\n",
       "  </tbody>\n",
       "</table>\n",
       "</div>"
      ],
      "text/plain": [
       "   PassengerId  Survived  Pclass  \\\n",
       "0            1         0       3   \n",
       "1            2         1       1   \n",
       "2            3         1       3   \n",
       "3            4         1       1   \n",
       "4            5         0       3   \n",
       "\n",
       "                                                Name     Sex   Age  SibSp  \\\n",
       "0                            Braund, Mr. Owen Harris    male  22.0      1   \n",
       "1  Cumings, Mrs. John Bradley (Florence Briggs Th...  female  38.0      1   \n",
       "2                             Heikkinen, Miss. Laina  female  26.0      0   \n",
       "3       Futrelle, Mrs. Jacques Heath (Lily May Peel)  female  35.0      1   \n",
       "4                           Allen, Mr. William Henry    male  35.0      0   \n",
       "\n",
       "   Parch            Ticket     Fare Cabin Embarked  \n",
       "0      0         A/5 21171   7.2500   NaN        S  \n",
       "1      0          PC 17599  71.2833   C85        C  \n",
       "2      0  STON/O2. 3101282   7.9250   NaN        S  \n",
       "3      0            113803  53.1000  C123        S  \n",
       "4      0            373450   8.0500   NaN        S  "
      ]
     },
     "execution_count": 2,
     "metadata": {},
     "output_type": "execute_result"
    }
   ],
   "source": [
    "df=pd.read_csv(\"train.csv\")\n",
    "df.head()"
   ]
  },
  {
   "cell_type": "code",
   "execution_count": 3,
   "id": "20c9f8bb-5a2f-4615-b5f0-7145cf6cfda6",
   "metadata": {},
   "outputs": [
    {
     "data": {
      "text/plain": [
       "PassengerId      0\n",
       "Survived         0\n",
       "Pclass           0\n",
       "Name             0\n",
       "Sex              0\n",
       "Age            177\n",
       "SibSp            0\n",
       "Parch            0\n",
       "Ticket           0\n",
       "Fare             0\n",
       "Cabin          687\n",
       "Embarked         2\n",
       "dtype: int64"
      ]
     },
     "execution_count": 3,
     "metadata": {},
     "output_type": "execute_result"
    }
   ],
   "source": [
    "df.isna().sum()"
   ]
  },
  {
   "cell_type": "code",
   "execution_count": 4,
   "id": "66ebdb1f-34ff-4ba9-ad61-a90cd8a6663c",
   "metadata": {},
   "outputs": [
    {
     "data": {
      "text/plain": [
       "(891, 12)"
      ]
     },
     "execution_count": 4,
     "metadata": {},
     "output_type": "execute_result"
    }
   ],
   "source": [
    "df.shape"
   ]
  },
  {
   "cell_type": "code",
   "execution_count": 5,
   "id": "c259c87d-fa35-4fb2-8b5f-77f443e2336f",
   "metadata": {},
   "outputs": [],
   "source": [
    "df=df.drop(['PassengerId','Name','Cabin','Ticket'],axis=1)"
   ]
  },
  {
   "cell_type": "code",
   "execution_count": 6,
   "id": "8d3ef72c-e63f-439e-b9bc-855a32c0a164",
   "metadata": {},
   "outputs": [
    {
     "data": {
      "text/html": [
       "<div>\n",
       "<style scoped>\n",
       "    .dataframe tbody tr th:only-of-type {\n",
       "        vertical-align: middle;\n",
       "    }\n",
       "\n",
       "    .dataframe tbody tr th {\n",
       "        vertical-align: top;\n",
       "    }\n",
       "\n",
       "    .dataframe thead th {\n",
       "        text-align: right;\n",
       "    }\n",
       "</style>\n",
       "<table border=\"1\" class=\"dataframe\">\n",
       "  <thead>\n",
       "    <tr style=\"text-align: right;\">\n",
       "      <th></th>\n",
       "      <th>Survived</th>\n",
       "      <th>Pclass</th>\n",
       "      <th>Sex</th>\n",
       "      <th>Age</th>\n",
       "      <th>SibSp</th>\n",
       "      <th>Parch</th>\n",
       "      <th>Fare</th>\n",
       "      <th>Embarked</th>\n",
       "    </tr>\n",
       "  </thead>\n",
       "  <tbody>\n",
       "    <tr>\n",
       "      <th>0</th>\n",
       "      <td>0</td>\n",
       "      <td>3</td>\n",
       "      <td>male</td>\n",
       "      <td>22.0</td>\n",
       "      <td>1</td>\n",
       "      <td>0</td>\n",
       "      <td>7.2500</td>\n",
       "      <td>S</td>\n",
       "    </tr>\n",
       "    <tr>\n",
       "      <th>1</th>\n",
       "      <td>1</td>\n",
       "      <td>1</td>\n",
       "      <td>female</td>\n",
       "      <td>38.0</td>\n",
       "      <td>1</td>\n",
       "      <td>0</td>\n",
       "      <td>71.2833</td>\n",
       "      <td>C</td>\n",
       "    </tr>\n",
       "    <tr>\n",
       "      <th>2</th>\n",
       "      <td>1</td>\n",
       "      <td>3</td>\n",
       "      <td>female</td>\n",
       "      <td>26.0</td>\n",
       "      <td>0</td>\n",
       "      <td>0</td>\n",
       "      <td>7.9250</td>\n",
       "      <td>S</td>\n",
       "    </tr>\n",
       "    <tr>\n",
       "      <th>3</th>\n",
       "      <td>1</td>\n",
       "      <td>1</td>\n",
       "      <td>female</td>\n",
       "      <td>35.0</td>\n",
       "      <td>1</td>\n",
       "      <td>0</td>\n",
       "      <td>53.1000</td>\n",
       "      <td>S</td>\n",
       "    </tr>\n",
       "    <tr>\n",
       "      <th>4</th>\n",
       "      <td>0</td>\n",
       "      <td>3</td>\n",
       "      <td>male</td>\n",
       "      <td>35.0</td>\n",
       "      <td>0</td>\n",
       "      <td>0</td>\n",
       "      <td>8.0500</td>\n",
       "      <td>S</td>\n",
       "    </tr>\n",
       "  </tbody>\n",
       "</table>\n",
       "</div>"
      ],
      "text/plain": [
       "   Survived  Pclass     Sex   Age  SibSp  Parch     Fare Embarked\n",
       "0         0       3    male  22.0      1      0   7.2500        S\n",
       "1         1       1  female  38.0      1      0  71.2833        C\n",
       "2         1       3  female  26.0      0      0   7.9250        S\n",
       "3         1       1  female  35.0      1      0  53.1000        S\n",
       "4         0       3    male  35.0      0      0   8.0500        S"
      ]
     },
     "execution_count": 6,
     "metadata": {},
     "output_type": "execute_result"
    }
   ],
   "source": [
    "df.head()"
   ]
  },
  {
   "cell_type": "code",
   "execution_count": 7,
   "id": "e898310e-1399-4069-9a72-b78cbf5eddd2",
   "metadata": {},
   "outputs": [],
   "source": [
    "from sklearn.impute import SimpleImputer"
   ]
  },
  {
   "cell_type": "code",
   "execution_count": 8,
   "id": "5dece1a5-16e1-436f-a004-2e37e2cb934d",
   "metadata": {},
   "outputs": [],
   "source": [
    "mean_imputer=SimpleImputer(strategy='mean')"
   ]
  },
  {
   "cell_type": "code",
   "execution_count": 9,
   "id": "3b5e520f-e2c0-4643-9786-b626d10ab907",
   "metadata": {},
   "outputs": [],
   "source": [
    "df['Age']=mean_imputer.fit_transform(df[['Age']])"
   ]
  },
  {
   "cell_type": "code",
   "execution_count": 10,
   "id": "7be745d7-2e58-4e53-bad9-5459ae96de6e",
   "metadata": {},
   "outputs": [
    {
     "data": {
      "text/plain": [
       "0      22.000000\n",
       "1      38.000000\n",
       "2      26.000000\n",
       "3      35.000000\n",
       "4      35.000000\n",
       "         ...    \n",
       "886    27.000000\n",
       "887    19.000000\n",
       "888    29.699118\n",
       "889    26.000000\n",
       "890    32.000000\n",
       "Name: Age, Length: 891, dtype: float64"
      ]
     },
     "execution_count": 10,
     "metadata": {},
     "output_type": "execute_result"
    }
   ],
   "source": [
    "df['Age']"
   ]
  },
  {
   "cell_type": "code",
   "execution_count": 11,
   "id": "a266a2a5-6f8a-4a59-a3ca-88177801cd55",
   "metadata": {},
   "outputs": [],
   "source": [
    "mf_imputer=SimpleImputer(strategy='most_frequent')"
   ]
  },
  {
   "cell_type": "code",
   "execution_count": 12,
   "id": "85532715-5412-48af-8a35-98c12b04934f",
   "metadata": {},
   "outputs": [],
   "source": [
    "df['Embarked']=mf_imputer.fit_transform(df[['Embarked']])"
   ]
  },
  {
   "cell_type": "code",
   "execution_count": 13,
   "id": "5f1f1b6a-46a4-42c3-b224-d62674d0ceaf",
   "metadata": {},
   "outputs": [
    {
     "name": "stdout",
     "output_type": "stream",
     "text": [
      "<class 'pandas.core.frame.DataFrame'>\n",
      "RangeIndex: 891 entries, 0 to 890\n",
      "Data columns (total 8 columns):\n",
      " #   Column    Non-Null Count  Dtype  \n",
      "---  ------    --------------  -----  \n",
      " 0   Survived  891 non-null    int64  \n",
      " 1   Pclass    891 non-null    int64  \n",
      " 2   Sex       891 non-null    object \n",
      " 3   Age       891 non-null    float64\n",
      " 4   SibSp     891 non-null    int64  \n",
      " 5   Parch     891 non-null    int64  \n",
      " 6   Fare      891 non-null    float64\n",
      " 7   Embarked  891 non-null    object \n",
      "dtypes: float64(2), int64(4), object(2)\n",
      "memory usage: 55.8+ KB\n"
     ]
    }
   ],
   "source": [
    "df.info()"
   ]
  },
  {
   "cell_type": "code",
   "execution_count": 14,
   "id": "0366c20e-5af1-4825-a07a-bcae4c6407ad",
   "metadata": {},
   "outputs": [],
   "source": [
    "bins=np.arange(0,82,10)"
   ]
  },
  {
   "cell_type": "code",
   "execution_count": 15,
   "id": "977a87f2-6740-4b20-9d82-fff616648169",
   "metadata": {},
   "outputs": [],
   "source": [
    "df['AgeBucket']=pd.cut(df.Age,bins=bins)\n",
    "df.drop('Age',axis=1,inplace=True)"
   ]
  },
  {
   "cell_type": "code",
   "execution_count": 16,
   "id": "4abb4f00-d6a1-41e7-bfe2-57bfa0b9d1d3",
   "metadata": {},
   "outputs": [
    {
     "data": {
      "text/html": [
       "<div>\n",
       "<style scoped>\n",
       "    .dataframe tbody tr th:only-of-type {\n",
       "        vertical-align: middle;\n",
       "    }\n",
       "\n",
       "    .dataframe tbody tr th {\n",
       "        vertical-align: top;\n",
       "    }\n",
       "\n",
       "    .dataframe thead th {\n",
       "        text-align: right;\n",
       "    }\n",
       "</style>\n",
       "<table border=\"1\" class=\"dataframe\">\n",
       "  <thead>\n",
       "    <tr style=\"text-align: right;\">\n",
       "      <th></th>\n",
       "      <th>Survived</th>\n",
       "      <th>Pclass</th>\n",
       "      <th>Sex</th>\n",
       "      <th>SibSp</th>\n",
       "      <th>Parch</th>\n",
       "      <th>Fare</th>\n",
       "      <th>Embarked</th>\n",
       "      <th>AgeBucket</th>\n",
       "    </tr>\n",
       "  </thead>\n",
       "  <tbody>\n",
       "    <tr>\n",
       "      <th>0</th>\n",
       "      <td>0</td>\n",
       "      <td>3</td>\n",
       "      <td>male</td>\n",
       "      <td>1</td>\n",
       "      <td>0</td>\n",
       "      <td>7.2500</td>\n",
       "      <td>S</td>\n",
       "      <td>(20, 30]</td>\n",
       "    </tr>\n",
       "    <tr>\n",
       "      <th>1</th>\n",
       "      <td>1</td>\n",
       "      <td>1</td>\n",
       "      <td>female</td>\n",
       "      <td>1</td>\n",
       "      <td>0</td>\n",
       "      <td>71.2833</td>\n",
       "      <td>C</td>\n",
       "      <td>(30, 40]</td>\n",
       "    </tr>\n",
       "    <tr>\n",
       "      <th>2</th>\n",
       "      <td>1</td>\n",
       "      <td>3</td>\n",
       "      <td>female</td>\n",
       "      <td>0</td>\n",
       "      <td>0</td>\n",
       "      <td>7.9250</td>\n",
       "      <td>S</td>\n",
       "      <td>(20, 30]</td>\n",
       "    </tr>\n",
       "    <tr>\n",
       "      <th>3</th>\n",
       "      <td>1</td>\n",
       "      <td>1</td>\n",
       "      <td>female</td>\n",
       "      <td>1</td>\n",
       "      <td>0</td>\n",
       "      <td>53.1000</td>\n",
       "      <td>S</td>\n",
       "      <td>(30, 40]</td>\n",
       "    </tr>\n",
       "    <tr>\n",
       "      <th>4</th>\n",
       "      <td>0</td>\n",
       "      <td>3</td>\n",
       "      <td>male</td>\n",
       "      <td>0</td>\n",
       "      <td>0</td>\n",
       "      <td>8.0500</td>\n",
       "      <td>S</td>\n",
       "      <td>(30, 40]</td>\n",
       "    </tr>\n",
       "  </tbody>\n",
       "</table>\n",
       "</div>"
      ],
      "text/plain": [
       "   Survived  Pclass     Sex  SibSp  Parch     Fare Embarked AgeBucket\n",
       "0         0       3    male      1      0   7.2500        S  (20, 30]\n",
       "1         1       1  female      1      0  71.2833        C  (30, 40]\n",
       "2         1       3  female      0      0   7.9250        S  (20, 30]\n",
       "3         1       1  female      1      0  53.1000        S  (30, 40]\n",
       "4         0       3    male      0      0   8.0500        S  (30, 40]"
      ]
     },
     "execution_count": 16,
     "metadata": {},
     "output_type": "execute_result"
    }
   ],
   "source": [
    "df.head()"
   ]
  },
  {
   "cell_type": "code",
   "execution_count": 17,
   "id": "349fc19a-a0e8-4c45-b010-0fc3dd870421",
   "metadata": {},
   "outputs": [],
   "source": [
    "df=pd.get_dummies(df,columns=['Sex','Pclass','Embarked','AgeBucket'])"
   ]
  },
  {
   "cell_type": "code",
   "execution_count": 18,
   "id": "4fd5292f-b9ce-4f2a-bc98-ad6a3b11702d",
   "metadata": {},
   "outputs": [
    {
     "data": {
      "text/html": [
       "<div>\n",
       "<style scoped>\n",
       "    .dataframe tbody tr th:only-of-type {\n",
       "        vertical-align: middle;\n",
       "    }\n",
       "\n",
       "    .dataframe tbody tr th {\n",
       "        vertical-align: top;\n",
       "    }\n",
       "\n",
       "    .dataframe thead th {\n",
       "        text-align: right;\n",
       "    }\n",
       "</style>\n",
       "<table border=\"1\" class=\"dataframe\">\n",
       "  <thead>\n",
       "    <tr style=\"text-align: right;\">\n",
       "      <th></th>\n",
       "      <th>Survived</th>\n",
       "      <th>SibSp</th>\n",
       "      <th>Parch</th>\n",
       "      <th>Fare</th>\n",
       "      <th>Sex_female</th>\n",
       "      <th>Sex_male</th>\n",
       "      <th>Pclass_1</th>\n",
       "      <th>Pclass_2</th>\n",
       "      <th>Pclass_3</th>\n",
       "      <th>Embarked_C</th>\n",
       "      <th>Embarked_Q</th>\n",
       "      <th>Embarked_S</th>\n",
       "      <th>AgeBucket_(0, 10]</th>\n",
       "      <th>AgeBucket_(10, 20]</th>\n",
       "      <th>AgeBucket_(20, 30]</th>\n",
       "      <th>AgeBucket_(30, 40]</th>\n",
       "      <th>AgeBucket_(40, 50]</th>\n",
       "      <th>AgeBucket_(50, 60]</th>\n",
       "      <th>AgeBucket_(60, 70]</th>\n",
       "      <th>AgeBucket_(70, 80]</th>\n",
       "    </tr>\n",
       "  </thead>\n",
       "  <tbody>\n",
       "    <tr>\n",
       "      <th>0</th>\n",
       "      <td>0</td>\n",
       "      <td>1</td>\n",
       "      <td>0</td>\n",
       "      <td>7.2500</td>\n",
       "      <td>0</td>\n",
       "      <td>1</td>\n",
       "      <td>0</td>\n",
       "      <td>0</td>\n",
       "      <td>1</td>\n",
       "      <td>0</td>\n",
       "      <td>0</td>\n",
       "      <td>1</td>\n",
       "      <td>0</td>\n",
       "      <td>0</td>\n",
       "      <td>1</td>\n",
       "      <td>0</td>\n",
       "      <td>0</td>\n",
       "      <td>0</td>\n",
       "      <td>0</td>\n",
       "      <td>0</td>\n",
       "    </tr>\n",
       "    <tr>\n",
       "      <th>1</th>\n",
       "      <td>1</td>\n",
       "      <td>1</td>\n",
       "      <td>0</td>\n",
       "      <td>71.2833</td>\n",
       "      <td>1</td>\n",
       "      <td>0</td>\n",
       "      <td>1</td>\n",
       "      <td>0</td>\n",
       "      <td>0</td>\n",
       "      <td>1</td>\n",
       "      <td>0</td>\n",
       "      <td>0</td>\n",
       "      <td>0</td>\n",
       "      <td>0</td>\n",
       "      <td>0</td>\n",
       "      <td>1</td>\n",
       "      <td>0</td>\n",
       "      <td>0</td>\n",
       "      <td>0</td>\n",
       "      <td>0</td>\n",
       "    </tr>\n",
       "    <tr>\n",
       "      <th>2</th>\n",
       "      <td>1</td>\n",
       "      <td>0</td>\n",
       "      <td>0</td>\n",
       "      <td>7.9250</td>\n",
       "      <td>1</td>\n",
       "      <td>0</td>\n",
       "      <td>0</td>\n",
       "      <td>0</td>\n",
       "      <td>1</td>\n",
       "      <td>0</td>\n",
       "      <td>0</td>\n",
       "      <td>1</td>\n",
       "      <td>0</td>\n",
       "      <td>0</td>\n",
       "      <td>1</td>\n",
       "      <td>0</td>\n",
       "      <td>0</td>\n",
       "      <td>0</td>\n",
       "      <td>0</td>\n",
       "      <td>0</td>\n",
       "    </tr>\n",
       "    <tr>\n",
       "      <th>3</th>\n",
       "      <td>1</td>\n",
       "      <td>1</td>\n",
       "      <td>0</td>\n",
       "      <td>53.1000</td>\n",
       "      <td>1</td>\n",
       "      <td>0</td>\n",
       "      <td>1</td>\n",
       "      <td>0</td>\n",
       "      <td>0</td>\n",
       "      <td>0</td>\n",
       "      <td>0</td>\n",
       "      <td>1</td>\n",
       "      <td>0</td>\n",
       "      <td>0</td>\n",
       "      <td>0</td>\n",
       "      <td>1</td>\n",
       "      <td>0</td>\n",
       "      <td>0</td>\n",
       "      <td>0</td>\n",
       "      <td>0</td>\n",
       "    </tr>\n",
       "    <tr>\n",
       "      <th>4</th>\n",
       "      <td>0</td>\n",
       "      <td>0</td>\n",
       "      <td>0</td>\n",
       "      <td>8.0500</td>\n",
       "      <td>0</td>\n",
       "      <td>1</td>\n",
       "      <td>0</td>\n",
       "      <td>0</td>\n",
       "      <td>1</td>\n",
       "      <td>0</td>\n",
       "      <td>0</td>\n",
       "      <td>1</td>\n",
       "      <td>0</td>\n",
       "      <td>0</td>\n",
       "      <td>0</td>\n",
       "      <td>1</td>\n",
       "      <td>0</td>\n",
       "      <td>0</td>\n",
       "      <td>0</td>\n",
       "      <td>0</td>\n",
       "    </tr>\n",
       "  </tbody>\n",
       "</table>\n",
       "</div>"
      ],
      "text/plain": [
       "   Survived  SibSp  Parch     Fare  Sex_female  Sex_male  Pclass_1  Pclass_2  \\\n",
       "0         0      1      0   7.2500           0         1         0         0   \n",
       "1         1      1      0  71.2833           1         0         1         0   \n",
       "2         1      0      0   7.9250           1         0         0         0   \n",
       "3         1      1      0  53.1000           1         0         1         0   \n",
       "4         0      0      0   8.0500           0         1         0         0   \n",
       "\n",
       "   Pclass_3  Embarked_C  Embarked_Q  Embarked_S  AgeBucket_(0, 10]  \\\n",
       "0         1           0           0           1                  0   \n",
       "1         0           1           0           0                  0   \n",
       "2         1           0           0           1                  0   \n",
       "3         0           0           0           1                  0   \n",
       "4         1           0           0           1                  0   \n",
       "\n",
       "   AgeBucket_(10, 20]  AgeBucket_(20, 30]  AgeBucket_(30, 40]  \\\n",
       "0                   0                   1                   0   \n",
       "1                   0                   0                   1   \n",
       "2                   0                   1                   0   \n",
       "3                   0                   0                   1   \n",
       "4                   0                   0                   1   \n",
       "\n",
       "   AgeBucket_(40, 50]  AgeBucket_(50, 60]  AgeBucket_(60, 70]  \\\n",
       "0                   0                   0                   0   \n",
       "1                   0                   0                   0   \n",
       "2                   0                   0                   0   \n",
       "3                   0                   0                   0   \n",
       "4                   0                   0                   0   \n",
       "\n",
       "   AgeBucket_(70, 80]  \n",
       "0                   0  \n",
       "1                   0  \n",
       "2                   0  \n",
       "3                   0  \n",
       "4                   0  "
      ]
     },
     "execution_count": 18,
     "metadata": {},
     "output_type": "execute_result"
    }
   ],
   "source": [
    "df.head()"
   ]
  },
  {
   "cell_type": "code",
   "execution_count": 19,
   "id": "639defb9-c507-4641-97c6-9fbab994b1ae",
   "metadata": {},
   "outputs": [],
   "source": [
    "from sklearn.model_selection import train_test_split"
   ]
  },
  {
   "cell_type": "code",
   "execution_count": 20,
   "id": "a8db2e2f-ec43-48bc-a566-c58477d8d269",
   "metadata": {},
   "outputs": [],
   "source": [
    "X=df.drop('Survived',axis=1)"
   ]
  },
  {
   "cell_type": "code",
   "execution_count": 21,
   "id": "c1deee2c-3a42-4183-b2d0-9e185af5554b",
   "metadata": {},
   "outputs": [],
   "source": [
    "y=df.Survived"
   ]
  },
  {
   "cell_type": "code",
   "execution_count": 22,
   "id": "dc11e364-e158-469f-ad3d-9f67d031a14a",
   "metadata": {},
   "outputs": [],
   "source": [
    "X_train,X_test,y_train,y_test=train_test_split(X,y,test_size=0.2,random_state=30)"
   ]
  },
  {
   "cell_type": "code",
   "execution_count": 23,
   "id": "fc291830-506a-4c2c-94da-18a26e863918",
   "metadata": {},
   "outputs": [
    {
     "name": "stdout",
     "output_type": "stream",
     "text": [
      "(712, 19)\n",
      "(179, 19)\n",
      "(712,)\n",
      "(179,)\n"
     ]
    }
   ],
   "source": [
    "print(X_train.shape)\n",
    "print(X_test.shape)\n",
    "print(y_train.shape)\n",
    "print(y_test.shape)"
   ]
  },
  {
   "cell_type": "code",
   "execution_count": 24,
   "id": "21ea8ddc-ad65-477c-8914-2f859b7183ee",
   "metadata": {},
   "outputs": [],
   "source": [
    "from sklearn.preprocessing import StandardScaler\n",
    "scaler=StandardScaler()"
   ]
  },
  {
   "cell_type": "code",
   "execution_count": 25,
   "id": "0669225d-54ea-4554-9c99-8a89c88e1836",
   "metadata": {},
   "outputs": [
    {
     "data": {
      "text/html": [
       "<style>#sk-container-id-1 {color: black;background-color: white;}#sk-container-id-1 pre{padding: 0;}#sk-container-id-1 div.sk-toggleable {background-color: white;}#sk-container-id-1 label.sk-toggleable__label {cursor: pointer;display: block;width: 100%;margin-bottom: 0;padding: 0.3em;box-sizing: border-box;text-align: center;}#sk-container-id-1 label.sk-toggleable__label-arrow:before {content: \"▸\";float: left;margin-right: 0.25em;color: #696969;}#sk-container-id-1 label.sk-toggleable__label-arrow:hover:before {color: black;}#sk-container-id-1 div.sk-estimator:hover label.sk-toggleable__label-arrow:before {color: black;}#sk-container-id-1 div.sk-toggleable__content {max-height: 0;max-width: 0;overflow: hidden;text-align: left;background-color: #f0f8ff;}#sk-container-id-1 div.sk-toggleable__content pre {margin: 0.2em;color: black;border-radius: 0.25em;background-color: #f0f8ff;}#sk-container-id-1 input.sk-toggleable__control:checked~div.sk-toggleable__content {max-height: 200px;max-width: 100%;overflow: auto;}#sk-container-id-1 input.sk-toggleable__control:checked~label.sk-toggleable__label-arrow:before {content: \"▾\";}#sk-container-id-1 div.sk-estimator input.sk-toggleable__control:checked~label.sk-toggleable__label {background-color: #d4ebff;}#sk-container-id-1 div.sk-label input.sk-toggleable__control:checked~label.sk-toggleable__label {background-color: #d4ebff;}#sk-container-id-1 input.sk-hidden--visually {border: 0;clip: rect(1px 1px 1px 1px);clip: rect(1px, 1px, 1px, 1px);height: 1px;margin: -1px;overflow: hidden;padding: 0;position: absolute;width: 1px;}#sk-container-id-1 div.sk-estimator {font-family: monospace;background-color: #f0f8ff;border: 1px dotted black;border-radius: 0.25em;box-sizing: border-box;margin-bottom: 0.5em;}#sk-container-id-1 div.sk-estimator:hover {background-color: #d4ebff;}#sk-container-id-1 div.sk-parallel-item::after {content: \"\";width: 100%;border-bottom: 1px solid gray;flex-grow: 1;}#sk-container-id-1 div.sk-label:hover label.sk-toggleable__label {background-color: #d4ebff;}#sk-container-id-1 div.sk-serial::before {content: \"\";position: absolute;border-left: 1px solid gray;box-sizing: border-box;top: 0;bottom: 0;left: 50%;z-index: 0;}#sk-container-id-1 div.sk-serial {display: flex;flex-direction: column;align-items: center;background-color: white;padding-right: 0.2em;padding-left: 0.2em;position: relative;}#sk-container-id-1 div.sk-item {position: relative;z-index: 1;}#sk-container-id-1 div.sk-parallel {display: flex;align-items: stretch;justify-content: center;background-color: white;position: relative;}#sk-container-id-1 div.sk-item::before, #sk-container-id-1 div.sk-parallel-item::before {content: \"\";position: absolute;border-left: 1px solid gray;box-sizing: border-box;top: 0;bottom: 0;left: 50%;z-index: -1;}#sk-container-id-1 div.sk-parallel-item {display: flex;flex-direction: column;z-index: 1;position: relative;background-color: white;}#sk-container-id-1 div.sk-parallel-item:first-child::after {align-self: flex-end;width: 50%;}#sk-container-id-1 div.sk-parallel-item:last-child::after {align-self: flex-start;width: 50%;}#sk-container-id-1 div.sk-parallel-item:only-child::after {width: 0;}#sk-container-id-1 div.sk-dashed-wrapped {border: 1px dashed gray;margin: 0 0.4em 0.5em 0.4em;box-sizing: border-box;padding-bottom: 0.4em;background-color: white;}#sk-container-id-1 div.sk-label label {font-family: monospace;font-weight: bold;display: inline-block;line-height: 1.2em;}#sk-container-id-1 div.sk-label-container {text-align: center;}#sk-container-id-1 div.sk-container {/* jupyter's `normalize.less` sets `[hidden] { display: none; }` but bootstrap.min.css set `[hidden] { display: none !important; }` so we also need the `!important` here to be able to override the default hidden behavior on the sphinx rendered scikit-learn.org. See: https://github.com/scikit-learn/scikit-learn/issues/21755 */display: inline-block !important;position: relative;}#sk-container-id-1 div.sk-text-repr-fallback {display: none;}</style><div id=\"sk-container-id-1\" class=\"sk-top-container\"><div class=\"sk-text-repr-fallback\"><pre>StandardScaler()</pre><b>In a Jupyter environment, please rerun this cell to show the HTML representation or trust the notebook. <br />On GitHub, the HTML representation is unable to render, please try loading this page with nbviewer.org.</b></div><div class=\"sk-container\" hidden><div class=\"sk-item\"><div class=\"sk-estimator sk-toggleable\"><input class=\"sk-toggleable__control sk-hidden--visually\" id=\"sk-estimator-id-1\" type=\"checkbox\" checked><label for=\"sk-estimator-id-1\" class=\"sk-toggleable__label sk-toggleable__label-arrow\">StandardScaler</label><div class=\"sk-toggleable__content\"><pre>StandardScaler()</pre></div></div></div></div></div>"
      ],
      "text/plain": [
       "StandardScaler()"
      ]
     },
     "execution_count": 25,
     "metadata": {},
     "output_type": "execute_result"
    }
   ],
   "source": [
    "scaler.fit(X_train)"
   ]
  },
  {
   "cell_type": "code",
   "execution_count": 26,
   "id": "be5304fd-0915-49de-a629-c3ebc1d57765",
   "metadata": {},
   "outputs": [
    {
     "data": {
      "text/plain": [
       "array([[-0.47671932, -0.4846737 , -0.37708475, ..., -0.22393636,\n",
       "        -0.14162382, -0.05307449],\n",
       "       [-0.47671932, -0.4846737 , -0.477489  , ..., -0.22393636,\n",
       "        -0.14162382, -0.05307449],\n",
       "       [-0.47671932,  0.74339631, -0.38710932, ..., -0.22393636,\n",
       "        -0.14162382, -0.05307449],\n",
       "       ...,\n",
       "       [ 3.23283433,  1.97146632, -0.02813399, ..., -0.22393636,\n",
       "        -0.14162382, -0.05307449],\n",
       "       [-0.47671932, -0.4846737 , -0.47764939, ..., -0.22393636,\n",
       "        -0.14162382, -0.05307449],\n",
       "       [-0.47671932, -0.4846737 , -0.47685315, ..., -0.22393636,\n",
       "        -0.14162382, -0.05307449]])"
      ]
     },
     "execution_count": 26,
     "metadata": {},
     "output_type": "execute_result"
    }
   ],
   "source": [
    "X_train=scaler.transform(X_train)\n",
    "X_train"
   ]
  },
  {
   "cell_type": "code",
   "execution_count": 27,
   "id": "e74f001c-64eb-417f-a8b5-d8c2ba901272",
   "metadata": {},
   "outputs": [],
   "source": [
    "from sklearn.linear_model import LogisticRegression"
   ]
  },
  {
   "cell_type": "code",
   "execution_count": 28,
   "id": "71beec5f-41ce-4533-9cf5-1748dbe61b90",
   "metadata": {},
   "outputs": [
    {
     "data": {
      "text/html": [
       "<style>#sk-container-id-2 {color: black;background-color: white;}#sk-container-id-2 pre{padding: 0;}#sk-container-id-2 div.sk-toggleable {background-color: white;}#sk-container-id-2 label.sk-toggleable__label {cursor: pointer;display: block;width: 100%;margin-bottom: 0;padding: 0.3em;box-sizing: border-box;text-align: center;}#sk-container-id-2 label.sk-toggleable__label-arrow:before {content: \"▸\";float: left;margin-right: 0.25em;color: #696969;}#sk-container-id-2 label.sk-toggleable__label-arrow:hover:before {color: black;}#sk-container-id-2 div.sk-estimator:hover label.sk-toggleable__label-arrow:before {color: black;}#sk-container-id-2 div.sk-toggleable__content {max-height: 0;max-width: 0;overflow: hidden;text-align: left;background-color: #f0f8ff;}#sk-container-id-2 div.sk-toggleable__content pre {margin: 0.2em;color: black;border-radius: 0.25em;background-color: #f0f8ff;}#sk-container-id-2 input.sk-toggleable__control:checked~div.sk-toggleable__content {max-height: 200px;max-width: 100%;overflow: auto;}#sk-container-id-2 input.sk-toggleable__control:checked~label.sk-toggleable__label-arrow:before {content: \"▾\";}#sk-container-id-2 div.sk-estimator input.sk-toggleable__control:checked~label.sk-toggleable__label {background-color: #d4ebff;}#sk-container-id-2 div.sk-label input.sk-toggleable__control:checked~label.sk-toggleable__label {background-color: #d4ebff;}#sk-container-id-2 input.sk-hidden--visually {border: 0;clip: rect(1px 1px 1px 1px);clip: rect(1px, 1px, 1px, 1px);height: 1px;margin: -1px;overflow: hidden;padding: 0;position: absolute;width: 1px;}#sk-container-id-2 div.sk-estimator {font-family: monospace;background-color: #f0f8ff;border: 1px dotted black;border-radius: 0.25em;box-sizing: border-box;margin-bottom: 0.5em;}#sk-container-id-2 div.sk-estimator:hover {background-color: #d4ebff;}#sk-container-id-2 div.sk-parallel-item::after {content: \"\";width: 100%;border-bottom: 1px solid gray;flex-grow: 1;}#sk-container-id-2 div.sk-label:hover label.sk-toggleable__label {background-color: #d4ebff;}#sk-container-id-2 div.sk-serial::before {content: \"\";position: absolute;border-left: 1px solid gray;box-sizing: border-box;top: 0;bottom: 0;left: 50%;z-index: 0;}#sk-container-id-2 div.sk-serial {display: flex;flex-direction: column;align-items: center;background-color: white;padding-right: 0.2em;padding-left: 0.2em;position: relative;}#sk-container-id-2 div.sk-item {position: relative;z-index: 1;}#sk-container-id-2 div.sk-parallel {display: flex;align-items: stretch;justify-content: center;background-color: white;position: relative;}#sk-container-id-2 div.sk-item::before, #sk-container-id-2 div.sk-parallel-item::before {content: \"\";position: absolute;border-left: 1px solid gray;box-sizing: border-box;top: 0;bottom: 0;left: 50%;z-index: -1;}#sk-container-id-2 div.sk-parallel-item {display: flex;flex-direction: column;z-index: 1;position: relative;background-color: white;}#sk-container-id-2 div.sk-parallel-item:first-child::after {align-self: flex-end;width: 50%;}#sk-container-id-2 div.sk-parallel-item:last-child::after {align-self: flex-start;width: 50%;}#sk-container-id-2 div.sk-parallel-item:only-child::after {width: 0;}#sk-container-id-2 div.sk-dashed-wrapped {border: 1px dashed gray;margin: 0 0.4em 0.5em 0.4em;box-sizing: border-box;padding-bottom: 0.4em;background-color: white;}#sk-container-id-2 div.sk-label label {font-family: monospace;font-weight: bold;display: inline-block;line-height: 1.2em;}#sk-container-id-2 div.sk-label-container {text-align: center;}#sk-container-id-2 div.sk-container {/* jupyter's `normalize.less` sets `[hidden] { display: none; }` but bootstrap.min.css set `[hidden] { display: none !important; }` so we also need the `!important` here to be able to override the default hidden behavior on the sphinx rendered scikit-learn.org. See: https://github.com/scikit-learn/scikit-learn/issues/21755 */display: inline-block !important;position: relative;}#sk-container-id-2 div.sk-text-repr-fallback {display: none;}</style><div id=\"sk-container-id-2\" class=\"sk-top-container\"><div class=\"sk-text-repr-fallback\"><pre>LogisticRegression()</pre><b>In a Jupyter environment, please rerun this cell to show the HTML representation or trust the notebook. <br />On GitHub, the HTML representation is unable to render, please try loading this page with nbviewer.org.</b></div><div class=\"sk-container\" hidden><div class=\"sk-item\"><div class=\"sk-estimator sk-toggleable\"><input class=\"sk-toggleable__control sk-hidden--visually\" id=\"sk-estimator-id-2\" type=\"checkbox\" checked><label for=\"sk-estimator-id-2\" class=\"sk-toggleable__label sk-toggleable__label-arrow\">LogisticRegression</label><div class=\"sk-toggleable__content\"><pre>LogisticRegression()</pre></div></div></div></div></div>"
      ],
      "text/plain": [
       "LogisticRegression()"
      ]
     },
     "execution_count": 28,
     "metadata": {},
     "output_type": "execute_result"
    }
   ],
   "source": [
    "model=LogisticRegression()\n",
    "model.fit(X_train,y_train)"
   ]
  },
  {
   "cell_type": "code",
   "execution_count": 29,
   "id": "99793114-2c0e-495b-a41c-162a70cd62e1",
   "metadata": {},
   "outputs": [
    {
     "data": {
      "text/plain": [
       "[('SibSp', -0.45047258013645713),\n",
       " ('Parch', -0.13513648775739837),\n",
       " ('Fare', 0.1290722924815582),\n",
       " ('Sex_female', 0.6731134280641424),\n",
       " ('Sex_male', -0.6731134280641424),\n",
       " ('Pclass_1', 0.4238767727026091),\n",
       " ('Pclass_2', 0.06440027664643376),\n",
       " ('Pclass_3', -0.41606299828832655),\n",
       " ('Embarked_C', 0.1278023390567251),\n",
       " ('Embarked_Q', 0.016846721357831183),\n",
       " ('Embarked_S', -0.12452241355931788),\n",
       " ('AgeBucket_(0, 10]', 0.5201931172138718),\n",
       " ('AgeBucket_(10, 20]', -0.036501023268545804),\n",
       " ('AgeBucket_(20, 30]', -0.11481369510584868),\n",
       " ('AgeBucket_(30, 40]', 0.060469720227273004),\n",
       " ('AgeBucket_(40, 50]', -0.13624103200658053),\n",
       " ('AgeBucket_(50, 60]', -0.09041840481750552),\n",
       " ('AgeBucket_(60, 70]', -0.14753143104722197),\n",
       " ('AgeBucket_(70, 80]', -0.2495250831290713)]"
      ]
     },
     "execution_count": 29,
     "metadata": {},
     "output_type": "execute_result"
    }
   ],
   "source": [
    "list(zip(X_test.columns, model.coef_.flatten()))"
   ]
  },
  {
   "cell_type": "code",
   "execution_count": 30,
   "id": "f30b0fd2-e18f-4580-84a9-2d70acda894c",
   "metadata": {},
   "outputs": [
    {
     "data": {
      "text/plain": [
       "([<matplotlib.axis.XTick at 0x2065b2775e0>,\n",
       "  <matplotlib.axis.XTick at 0x2065b2775b0>,\n",
       "  <matplotlib.axis.XTick at 0x2065b2772b0>,\n",
       "  <matplotlib.axis.XTick at 0x2065b2f25f0>,\n",
       "  <matplotlib.axis.XTick at 0x2065b2f2d40>,\n",
       "  <matplotlib.axis.XTick at 0x2065b2f3490>,\n",
       "  <matplotlib.axis.XTick at 0x2065b2f31f0>,\n",
       "  <matplotlib.axis.XTick at 0x2065b2f3ac0>,\n",
       "  <matplotlib.axis.XTick at 0x2065b330250>,\n",
       "  <matplotlib.axis.XTick at 0x2065b3309a0>,\n",
       "  <matplotlib.axis.XTick at 0x2065b3310f0>,\n",
       "  <matplotlib.axis.XTick at 0x2065b331840>,\n",
       "  <matplotlib.axis.XTick at 0x2065b2f3eb0>,\n",
       "  <matplotlib.axis.XTick at 0x2065b331c30>,\n",
       "  <matplotlib.axis.XTick at 0x2065b330a00>,\n",
       "  <matplotlib.axis.XTick at 0x2065b332530>,\n",
       "  <matplotlib.axis.XTick at 0x2065b332c80>,\n",
       "  <matplotlib.axis.XTick at 0x2065b3333d0>,\n",
       "  <matplotlib.axis.XTick at 0x2065b333b20>],\n",
       " [Text(0, 0, ''),\n",
       "  Text(0, 0, ''),\n",
       "  Text(0, 0, ''),\n",
       "  Text(0, 0, ''),\n",
       "  Text(0, 0, ''),\n",
       "  Text(0, 0, ''),\n",
       "  Text(0, 0, ''),\n",
       "  Text(0, 0, ''),\n",
       "  Text(0, 0, ''),\n",
       "  Text(0, 0, ''),\n",
       "  Text(0, 0, ''),\n",
       "  Text(0, 0, ''),\n",
       "  Text(0, 0, ''),\n",
       "  Text(0, 0, ''),\n",
       "  Text(0, 0, ''),\n",
       "  Text(0, 0, ''),\n",
       "  Text(0, 0, ''),\n",
       "  Text(0, 0, ''),\n",
       "  Text(0, 0, '')])"
      ]
     },
     "execution_count": 30,
     "metadata": {},
     "output_type": "execute_result"
    },
    {
     "data": {
      "image/png": "[encoded data removed]",
      "text/plain": [
       "<Figure size 432x288 with 1 Axes>"
      ]
     },
     "metadata": {
      "needs_background": "light"
     },
     "output_type": "display_data"
    }
   ],
   "source": [
    "from matplotlib import pyplot as plt\n",
    "plt.bar(X_test.columns, model.coef_.flatten())\n",
    "plt.xticks(X_test.columns,rotation=90)"
   ]
  },
  {
   "cell_type": "code",
   "execution_count": 31,
   "id": "a614053d-87c9-49d3-b1bd-8989573a93fa",
   "metadata": {},
   "outputs": [
    {
     "data": {
      "text/plain": [
       "array([-0.68021713])"
      ]
     },
     "execution_count": 31,
     "metadata": {},
     "output_type": "execute_result"
    }
   ],
   "source": [
    "model.intercept_"
   ]
  },
  {
   "cell_type": "code",
   "execution_count": 32,
   "id": "4ceefe4e-3dff-499c-af86-920079bf44d1",
   "metadata": {},
   "outputs": [
    {
     "data": {
      "text/plain": [
       "array([1, 1, 0, 1, 0, 0, 1, 0, 0, 0, 0, 0, 0, 0, 1, 0, 0, 0, 0, 1, 0, 0,\n",
       "       0, 0, 1, 0, 1, 0, 0, 1, 1, 1, 0, 0, 0, 0, 1, 0, 0, 1, 1, 0, 0, 1,\n",
       "       1, 0, 1, 0, 0, 1, 0, 0, 0, 1, 0, 1, 0, 0, 1, 0, 0, 0, 0, 0, 0, 0,\n",
       "       0, 0, 0, 0, 1, 0, 0, 0, 1, 0, 1, 0, 0, 0, 0, 0, 0, 0, 1, 0, 1, 0,\n",
       "       0, 0, 0, 0, 1, 1, 1, 0, 0, 1, 1, 0, 0, 1, 1, 0, 0, 1, 0, 0, 0, 1,\n",
       "       0, 1, 0, 0, 0, 0, 0, 0, 1, 0, 0, 0, 0, 1, 0, 0, 0, 0, 0, 0, 1, 1,\n",
       "       1, 0, 0, 0, 0, 1, 0, 1, 1, 0, 0, 0, 0, 0, 0, 0, 0, 0, 0, 0, 0, 1,\n",
       "       0, 0, 1, 1, 1, 0, 1, 0, 0, 0, 1, 0, 1, 1, 1, 1, 1, 1, 1, 0, 1, 0,\n",
       "       1, 1, 1], dtype=int64)"
      ]
     },
     "execution_count": 32,
     "metadata": {},
     "output_type": "execute_result"
    }
   ],
   "source": [
    "y_pred=model.predict(scaler.transform(X_test))\n",
    "y_pred"
   ]
  },
  {
   "cell_type": "code",
   "execution_count": 33,
   "id": "cbdce378-4c54-4f64-b054-a30e8e236d7a",
   "metadata": {},
   "outputs": [
    {
     "data": {
      "text/plain": [
       "[(1, 1),\n",
       " (1, 1),\n",
       " (0, 0),\n",
       " (1, 1),\n",
       " (0, 0),\n",
       " (0, 0),\n",
       " (1, 0),\n",
       " (0, 0),\n",
       " (0, 0),\n",
       " (0, 1),\n",
       " (0, 0),\n",
       " (0, 1),\n",
       " (0, 0),\n",
       " (0, 0),\n",
       " (1, 1),\n",
       " (0, 0),\n",
       " (0, 0),\n",
       " (0, 0),\n",
       " (0, 1),\n",
       " (1, 1),\n",
       " (0, 1),\n",
       " (0, 0),\n",
       " (0, 0),\n",
       " (0, 0),\n",
       " (1, 1),\n",
       " (0, 0),\n",
       " (1, 0),\n",
       " (0, 1),\n",
       " (0, 0),\n",
       " (1, 0),\n",
       " (1, 1),\n",
       " (1, 1),\n",
       " (0, 0),\n",
       " (0, 0),\n",
       " (0, 0),\n",
       " (0, 0),\n",
       " (1, 1),\n",
       " (0, 0),\n",
       " (0, 0),\n",
       " (1, 0),\n",
       " (1, 1),\n",
       " (0, 0),\n",
       " (0, 1),\n",
       " (1, 0),\n",
       " (1, 1),\n",
       " (0, 0),\n",
       " (1, 1),\n",
       " (0, 0),\n",
       " (0, 0),\n",
       " (1, 0),\n",
       " (0, 0),\n",
       " (0, 0),\n",
       " (0, 0),\n",
       " (1, 1),\n",
       " (0, 0),\n",
       " (1, 1),\n",
       " (0, 0),\n",
       " (0, 0),\n",
       " (1, 1),\n",
       " (0, 0),\n",
       " (0, 1),\n",
       " (0, 0),\n",
       " (0, 0),\n",
       " (0, 0),\n",
       " (0, 0),\n",
       " (0, 0),\n",
       " (0, 1),\n",
       " (0, 1),\n",
       " (0, 0),\n",
       " (0, 1),\n",
       " (1, 1),\n",
       " (0, 0),\n",
       " (0, 0),\n",
       " (0, 0),\n",
       " (1, 0),\n",
       " (0, 0),\n",
       " (1, 1),\n",
       " (0, 0),\n",
       " (0, 1),\n",
       " (0, 1),\n",
       " (0, 0),\n",
       " (0, 0),\n",
       " (0, 0),\n",
       " (0, 0),\n",
       " (1, 1),\n",
       " (0, 1),\n",
       " (1, 1),\n",
       " (0, 0),\n",
       " (0, 0),\n",
       " (0, 1),\n",
       " (0, 0),\n",
       " (0, 0),\n",
       " (1, 1),\n",
       " (1, 1),\n",
       " (1, 1),\n",
       " (0, 0),\n",
       " (0, 0),\n",
       " (1, 1),\n",
       " (1, 0),\n",
       " (0, 0),\n",
       " (0, 0),\n",
       " (1, 1),\n",
       " (1, 1),\n",
       " (0, 0),\n",
       " (0, 0),\n",
       " (1, 1),\n",
       " (0, 1),\n",
       " (0, 0),\n",
       " (0, 0),\n",
       " (1, 1),\n",
       " (0, 1),\n",
       " (1, 1),\n",
       " (0, 0),\n",
       " (0, 0),\n",
       " (0, 0),\n",
       " (0, 0),\n",
       " (0, 0),\n",
       " (0, 0),\n",
       " (1, 1),\n",
       " (0, 0),\n",
       " (0, 1),\n",
       " (0, 1),\n",
       " (0, 0),\n",
       " (1, 1),\n",
       " (0, 0),\n",
       " (0, 0),\n",
       " (0, 0),\n",
       " (0, 1),\n",
       " (0, 0),\n",
       " (0, 0),\n",
       " (1, 1),\n",
       " (1, 0),\n",
       " (1, 1),\n",
       " (0, 1),\n",
       " (0, 1),\n",
       " (0, 1),\n",
       " (0, 0),\n",
       " (1, 1),\n",
       " (0, 0),\n",
       " (1, 0),\n",
       " (1, 1),\n",
       " (0, 0),\n",
       " (0, 0),\n",
       " (0, 0),\n",
       " (0, 0),\n",
       " (0, 0),\n",
       " (0, 0),\n",
       " (0, 0),\n",
       " (0, 1),\n",
       " (0, 0),\n",
       " (0, 0),\n",
       " (0, 0),\n",
       " (0, 0),\n",
       " (1, 0),\n",
       " (0, 0),\n",
       " (0, 0),\n",
       " (1, 1),\n",
       " (1, 1),\n",
       " (1, 1),\n",
       " (0, 0),\n",
       " (1, 1),\n",
       " (0, 0),\n",
       " (0, 0),\n",
       " (0, 0),\n",
       " (1, 1),\n",
       " (0, 0),\n",
       " (1, 1),\n",
       " (1, 1),\n",
       " (1, 1),\n",
       " (1, 1),\n",
       " (1, 1),\n",
       " (1, 1),\n",
       " (1, 1),\n",
       " (0, 0),\n",
       " (1, 1),\n",
       " (0, 0),\n",
       " (1, 0),\n",
       " (1, 1),\n",
       " (1, 0)]"
      ]
     },
     "execution_count": 33,
     "metadata": {},
     "output_type": "execute_result"
    }
   ],
   "source": [
    "list(zip(y_pred,y_test))"
   ]
  },
  {
   "cell_type": "code",
   "execution_count": 34,
   "id": "930980a7-9675-4d16-a7bd-b9215eaed621",
   "metadata": {},
   "outputs": [],
   "source": [
    "#Accuracy"
   ]
  },
  {
   "cell_type": "code",
   "execution_count": 35,
   "id": "d5af00a8-3081-4543-b155-72a632c14e43",
   "metadata": {},
   "outputs": [
    {
     "data": {
      "text/plain": [
       "0.7988826815642458"
      ]
     },
     "execution_count": 35,
     "metadata": {},
     "output_type": "execute_result"
    }
   ],
   "source": [
    "model.score(scaler.transform(X_test),y_test)"
   ]
  },
  {
   "cell_type": "code",
   "execution_count": 36,
   "id": "444c708f-01b0-438b-806e-a718027bf5d3",
   "metadata": {},
   "outputs": [
    {
     "data": {
      "text/plain": [
       "array([[95, 13],\n",
       "       [23, 48]], dtype=int64)"
      ]
     },
     "execution_count": 36,
     "metadata": {},
     "output_type": "execute_result"
    }
   ],
   "source": [
    "from sklearn.metrics import confusion_matrix\n",
    "confusion_matrix(y_test,y_pred)"
   ]
  },
  {
   "cell_type": "code",
   "execution_count": 37,
   "id": "6b641c34-1d16-48a6-ac80-86974fc6931d",
   "metadata": {},
   "outputs": [],
   "source": [
    "from sklearn.metrics import precision_score,recall_score"
   ]
  },
  {
   "cell_type": "code",
   "execution_count": 38,
   "id": "95a598d5-c0b6-486b-a49c-7e99086355e3",
   "metadata": {},
   "outputs": [
    {
     "data": {
      "text/plain": [
       "0.676056338028169"
      ]
     },
     "execution_count": 38,
     "metadata": {},
     "output_type": "execute_result"
    }
   ],
   "source": [
    "recall_score(y_test,y_pred)"
   ]
  },
  {
   "cell_type": "code",
   "execution_count": 39,
   "id": "c8dce21a-ee80-4b95-8b65-ae949f31f93b",
   "metadata": {},
   "outputs": [
    {
     "data": {
      "text/plain": [
       "array([[2.33340048e-01, 7.66659952e-01],\n",
       "       [5.90579209e-02, 9.40942079e-01],\n",
       "       [9.19244723e-01, 8.07552767e-02],\n",
       "       [8.95711376e-02, 9.10428862e-01],\n",
       "       [8.94480945e-01, 1.05519055e-01],\n",
       "       [8.45188651e-01, 1.54811349e-01],\n",
       "       [4.24033618e-01, 5.75966382e-01],\n",
       "       [9.19244723e-01, 8.07552767e-02],\n",
       "       [8.90324407e-01, 1.09675593e-01],\n",
       "       [9.19295021e-01, 8.07049787e-02],\n",
       "       [9.45990902e-01, 5.40090977e-02],\n",
       "       [6.30257030e-01, 3.69742970e-01],\n",
       "       [9.45414944e-01, 5.45850563e-02],\n",
       "       [9.19070746e-01, 8.09292537e-02],\n",
       "       [8.49686625e-02, 9.15031338e-01],\n",
       "       [7.36451925e-01, 2.63548075e-01],\n",
       "       [9.19291218e-01, 8.07087821e-02],\n",
       "       [9.19132593e-01, 8.08674070e-02],\n",
       "       [8.84497824e-01, 1.15502176e-01],\n",
       "       [1.49837697e-01, 8.50162303e-01],\n",
       "       [7.87125098e-01, 2.12874902e-01],\n",
       "       [9.19291218e-01, 8.07087821e-02],\n",
       "       [7.30186471e-01, 2.69813529e-01],\n",
       "       [8.59523136e-01, 1.40476864e-01],\n",
       "       [9.01354791e-02, 9.09864521e-01],\n",
       "       [9.33862217e-01, 6.61377829e-02],\n",
       "       [4.31457576e-01, 5.68542424e-01],\n",
       "       [8.63113123e-01, 1.36886877e-01],\n",
       "       [9.18056778e-01, 8.19432219e-02],\n",
       "       [4.03603521e-01, 5.96396479e-01],\n",
       "       [8.41815073e-02, 9.15818493e-01],\n",
       "       [4.58819867e-01, 5.41180133e-01],\n",
       "       [8.90516784e-01, 1.09483216e-01],\n",
       "       [9.58177368e-01, 4.18226324e-02],\n",
       "       [9.19272930e-01, 8.07270697e-02],\n",
       "       [8.84699098e-01, 1.15300902e-01],\n",
       "       [1.07958328e-01, 8.92041672e-01],\n",
       "       [5.13651322e-01, 4.86348678e-01],\n",
       "       [8.84100673e-01, 1.15899327e-01],\n",
       "       [3.58551924e-01, 6.41448076e-01],\n",
       "       [3.10076114e-01, 6.89923886e-01],\n",
       "       [6.50403109e-01, 3.49596891e-01],\n",
       "       [8.90324407e-01, 1.09675593e-01],\n",
       "       [2.71526781e-01, 7.28473219e-01],\n",
       "       [1.99008029e-01, 8.00991971e-01],\n",
       "       [9.43774808e-01, 5.62251919e-02],\n",
       "       [4.60998471e-01, 5.39001529e-01],\n",
       "       [9.19272930e-01, 8.07270697e-02],\n",
       "       [7.90423987e-01, 2.09576013e-01],\n",
       "       [3.11879209e-01, 6.88120791e-01],\n",
       "       [7.51923538e-01, 2.48076462e-01],\n",
       "       [8.00171163e-01, 1.99828837e-01],\n",
       "       [9.19276734e-01, 8.07232656e-02],\n",
       "       [5.66758766e-02, 9.43324123e-01],\n",
       "       [7.23001057e-01, 2.76998943e-01],\n",
       "       [2.02373853e-01, 7.97626147e-01],\n",
       "       [8.90305345e-01, 1.09694655e-01],\n",
       "       [9.19390966e-01, 8.06090345e-02],\n",
       "       [1.23383723e-01, 8.76616277e-01],\n",
       "       [8.06975475e-01, 1.93024525e-01],\n",
       "       [7.21506729e-01, 2.78493271e-01],\n",
       "       [9.32440151e-01, 6.75598491e-02],\n",
       "       [7.52871393e-01, 2.47128607e-01],\n",
       "       [9.19244723e-01, 8.07552767e-02],\n",
       "       [9.19272930e-01, 8.07270697e-02],\n",
       "       [9.19272930e-01, 8.07270697e-02],\n",
       "       [6.63359651e-01, 3.36640349e-01],\n",
       "       [6.03497029e-01, 3.96502971e-01],\n",
       "       [5.38222275e-01, 4.61777725e-01],\n",
       "       [5.39684229e-01, 4.60315771e-01],\n",
       "       [4.76167922e-01, 5.23832078e-01],\n",
       "       [9.19272930e-01, 8.07270697e-02],\n",
       "       [7.87125098e-01, 2.12874902e-01],\n",
       "       [8.86314927e-01, 1.13685073e-01],\n",
       "       [4.74956533e-01, 5.25043467e-01],\n",
       "       [9.63248969e-01, 3.67510311e-02],\n",
       "       [3.25388322e-01, 6.74611678e-01],\n",
       "       [8.84605845e-01, 1.15394155e-01],\n",
       "       [9.07318744e-01, 9.26812561e-02],\n",
       "       [8.71694505e-01, 1.28305495e-01],\n",
       "       [8.84387623e-01, 1.15612377e-01],\n",
       "       [9.31086030e-01, 6.89139701e-02],\n",
       "       [6.76785539e-01, 3.23214461e-01],\n",
       "       [9.19336153e-01, 8.06638470e-02],\n",
       "       [3.30828966e-01, 6.69171034e-01],\n",
       "       [9.09647261e-01, 9.03527395e-02],\n",
       "       [4.68048296e-01, 5.31951704e-01],\n",
       "       [9.19244723e-01, 8.07552767e-02],\n",
       "       [8.90328426e-01, 1.09671574e-01],\n",
       "       [6.22785493e-01, 3.77214507e-01],\n",
       "       [9.58177368e-01, 4.18226324e-02],\n",
       "       [9.17945466e-01, 8.20545339e-02],\n",
       "       [3.92893004e-01, 6.07106996e-01],\n",
       "       [1.83097823e-01, 8.16902177e-01],\n",
       "       [1.42415165e-01, 8.57584835e-01],\n",
       "       [8.06013922e-01, 1.93986078e-01],\n",
       "       [8.10974384e-01, 1.89025616e-01],\n",
       "       [8.36081339e-02, 9.16391866e-01],\n",
       "       [4.13740424e-01, 5.86259576e-01],\n",
       "       [9.09596608e-01, 9.04033923e-02],\n",
       "       [9.09925973e-01, 9.00740274e-02],\n",
       "       [1.98027699e-01, 8.01972301e-01],\n",
       "       [2.66404215e-01, 7.33595785e-01],\n",
       "       [9.19427488e-01, 8.05725117e-02],\n",
       "       [9.09647261e-01, 9.03527395e-02],\n",
       "       [1.40445542e-01, 8.59554458e-01],\n",
       "       [9.93509542e-01, 6.49045785e-03],\n",
       "       [9.19390966e-01, 8.06090345e-02],\n",
       "       [7.37646052e-01, 2.62353948e-01],\n",
       "       [8.34399087e-02, 9.16560091e-01],\n",
       "       [9.09925973e-01, 9.00740274e-02],\n",
       "       [2.20089181e-01, 7.79910819e-01],\n",
       "       [5.79536318e-01, 4.20463682e-01],\n",
       "       [7.01614323e-01, 2.98385677e-01],\n",
       "       [9.83182459e-01, 1.68175413e-02],\n",
       "       [9.19244723e-01, 8.07552767e-02],\n",
       "       [5.55814873e-01, 4.44185127e-01],\n",
       "       [8.60993226e-01, 1.39006774e-01],\n",
       "       [2.41485369e-01, 7.58514631e-01],\n",
       "       [6.25676003e-01, 3.74323997e-01],\n",
       "       [8.90324407e-01, 1.09675593e-01],\n",
       "       [7.54655376e-01, 2.45344624e-01],\n",
       "       [8.65475742e-01, 1.34524258e-01],\n",
       "       [3.90534092e-01, 6.09465908e-01],\n",
       "       [9.90380689e-01, 9.61931149e-03],\n",
       "       [9.30111108e-01, 6.98888925e-02],\n",
       "       [5.73796407e-01, 4.26203593e-01],\n",
       "       [5.39745454e-01, 4.60254546e-01],\n",
       "       [8.84466347e-01, 1.15533653e-01],\n",
       "       [9.32486368e-01, 6.75136319e-02],\n",
       "       [3.74402330e-01, 6.25597670e-01],\n",
       "       [4.02452161e-01, 5.97547839e-01],\n",
       "       [1.42415165e-01, 8.57584835e-01],\n",
       "       [5.17093999e-01, 4.82906001e-01],\n",
       "       [6.30257030e-01, 3.69742970e-01],\n",
       "       [9.33721274e-01, 6.62787259e-02],\n",
       "       [9.22112609e-01, 7.78873909e-02],\n",
       "       [4.91157417e-02, 9.50884258e-01],\n",
       "       [8.45188651e-01, 1.54811349e-01],\n",
       "       [3.12796724e-01, 6.87203276e-01],\n",
       "       [5.75384544e-02, 9.42461546e-01],\n",
       "       [7.86711846e-01, 2.13288154e-01],\n",
       "       [8.84497824e-01, 1.15502176e-01],\n",
       "       [5.36381679e-01, 4.63618321e-01],\n",
       "       [9.19272930e-01, 8.07270697e-02],\n",
       "       [6.30544146e-01, 3.69455854e-01],\n",
       "       [8.06013922e-01, 1.93986078e-01],\n",
       "       [8.63113123e-01, 1.36886877e-01],\n",
       "       [9.19291218e-01, 8.07087821e-02],\n",
       "       [5.55792969e-01, 4.44207031e-01],\n",
       "       [9.87752010e-01, 1.22479899e-02],\n",
       "       [8.82958924e-01, 1.17041076e-01],\n",
       "       [9.45348133e-01, 5.46518669e-02],\n",
       "       [4.02031268e-01, 5.97968732e-01],\n",
       "       [8.59366511e-01, 1.40633489e-01],\n",
       "       [5.55792969e-01, 4.44207031e-01],\n",
       "       [8.20092842e-02, 9.17990716e-01],\n",
       "       [3.25431170e-01, 6.74568830e-01],\n",
       "       [3.25431170e-01, 6.74568830e-01],\n",
       "       [8.10974384e-01, 1.89025616e-01],\n",
       "       [1.42415165e-01, 8.57584835e-01],\n",
       "       [5.68118046e-01, 4.31881954e-01],\n",
       "       [6.78911369e-01, 3.21088631e-01],\n",
       "       [9.19390966e-01, 8.06090345e-02],\n",
       "       [6.16283211e-02, 9.38371679e-01],\n",
       "       [5.97892642e-01, 4.02107358e-01],\n",
       "       [8.29499839e-02, 9.17050016e-01],\n",
       "       [5.13221030e-02, 9.48677897e-01],\n",
       "       [3.25361273e-01, 6.74638727e-01],\n",
       "       [2.66404215e-01, 7.33595785e-01],\n",
       "       [2.66404215e-01, 7.33595785e-01],\n",
       "       [2.18277588e-01, 7.81722412e-01],\n",
       "       [1.42415165e-01, 8.57584835e-01],\n",
       "       [8.34308867e-01, 1.65691133e-01],\n",
       "       [3.25431170e-01, 6.74568830e-01],\n",
       "       [9.99010027e-01, 9.89972732e-04],\n",
       "       [3.25431170e-01, 6.74568830e-01],\n",
       "       [8.07198241e-02, 9.19280176e-01],\n",
       "       [4.07741907e-01, 5.92258093e-01]])"
      ]
     },
     "execution_count": 39,
     "metadata": {},
     "output_type": "execute_result"
    }
   ],
   "source": [
    "y_prob=model.predict_proba(scaler.transform(X_test))\n",
    "y_prob"
   ]
  },
  {
   "cell_type": "code",
   "execution_count": 40,
   "id": "b809aaeb-5f82-42af-aa4f-93f7e633e702",
   "metadata": {},
   "outputs": [
    {
     "data": {
      "text/plain": [
       "(179, 2)"
      ]
     },
     "execution_count": 40,
     "metadata": {},
     "output_type": "execute_result"
    }
   ],
   "source": [
    "y_prob.shape"
   ]
  },
  {
   "cell_type": "code",
   "execution_count": 41,
   "id": "4fa4633d-859c-4ac4-af5f-5fe1c3bc1deb",
   "metadata": {},
   "outputs": [
    {
     "data": {
      "text/plain": [
       "array([0.76665995, 0.94094208, 0.08075528, 0.91042886, 0.10551905,\n",
       "       0.15481135, 0.57596638, 0.08075528, 0.10967559, 0.08070498,\n",
       "       0.0540091 , 0.36974297, 0.05458506, 0.08092925, 0.91503134,\n",
       "       0.26354807, 0.08070878, 0.08086741, 0.11550218, 0.8501623 ,\n",
       "       0.2128749 , 0.08070878, 0.26981353, 0.14047686, 0.90986452,\n",
       "       0.06613778, 0.56854242, 0.13688688, 0.08194322, 0.59639648,\n",
       "       0.91581849, 0.54118013, 0.10948322, 0.04182263, 0.08072707,\n",
       "       0.1153009 , 0.89204167, 0.48634868, 0.11589933, 0.64144808,\n",
       "       0.68992389, 0.34959689, 0.10967559, 0.72847322, 0.80099197,\n",
       "       0.05622519, 0.53900153, 0.08072707, 0.20957601, 0.68812079,\n",
       "       0.24807646, 0.19982884, 0.08072327, 0.94332412, 0.27699894,\n",
       "       0.79762615, 0.10969465, 0.08060903, 0.87661628, 0.19302452,\n",
       "       0.27849327, 0.06755985, 0.24712861, 0.08075528, 0.08072707,\n",
       "       0.08072707, 0.33664035, 0.39650297, 0.46177773, 0.46031577,\n",
       "       0.52383208, 0.08072707, 0.2128749 , 0.11368507, 0.52504347,\n",
       "       0.03675103, 0.67461168, 0.11539415, 0.09268126, 0.12830549,\n",
       "       0.11561238, 0.06891397, 0.32321446, 0.08066385, 0.66917103,\n",
       "       0.09035274, 0.5319517 , 0.08075528, 0.10967157, 0.37721451,\n",
       "       0.04182263, 0.08205453, 0.607107  , 0.81690218, 0.85758483,\n",
       "       0.19398608, 0.18902562, 0.91639187, 0.58625958, 0.09040339,\n",
       "       0.09007403, 0.8019723 , 0.73359578, 0.08057251, 0.09035274,\n",
       "       0.85955446, 0.00649046, 0.08060903, 0.26235395, 0.91656009,\n",
       "       0.09007403, 0.77991082, 0.42046368, 0.29838568, 0.01681754,\n",
       "       0.08075528, 0.44418513, 0.13900677, 0.75851463, 0.374324  ,\n",
       "       0.10967559, 0.24534462, 0.13452426, 0.60946591, 0.00961931,\n",
       "       0.06988889, 0.42620359, 0.46025455, 0.11553365, 0.06751363,\n",
       "       0.62559767, 0.59754784, 0.85758483, 0.482906  , 0.36974297,\n",
       "       0.06627873, 0.07788739, 0.95088426, 0.15481135, 0.68720328,\n",
       "       0.94246155, 0.21328815, 0.11550218, 0.46361832, 0.08072707,\n",
       "       0.36945585, 0.19398608, 0.13688688, 0.08070878, 0.44420703,\n",
       "       0.01224799, 0.11704108, 0.05465187, 0.59796873, 0.14063349,\n",
       "       0.44420703, 0.91799072, 0.67456883, 0.67456883, 0.18902562,\n",
       "       0.85758483, 0.43188195, 0.32108863, 0.08060903, 0.93837168,\n",
       "       0.40210736, 0.91705002, 0.9486779 , 0.67463873, 0.73359578,\n",
       "       0.73359578, 0.78172241, 0.85758483, 0.16569113, 0.67456883,\n",
       "       0.00098997, 0.67456883, 0.91928018, 0.59225809])"
      ]
     },
     "execution_count": 41,
     "metadata": {},
     "output_type": "execute_result"
    }
   ],
   "source": [
    "y_porb1=y_prob[:,1]\n",
    "y_porb1"
   ]
  },
  {
   "cell_type": "code",
   "execution_count": 42,
   "id": "d29dd449-12f3-4770-836d-62c654d4fc07",
   "metadata": {},
   "outputs": [
    {
     "data": {
      "text/plain": [
       "[(0.7666599519386298, 1),\n",
       " (0.9409420791281807, 1),\n",
       " (0.08075527674087186, 0),\n",
       " (0.9104288623751464, 1),\n",
       " (0.10551905454711694, 0),\n",
       " (0.15481134944961147, 0),\n",
       " (0.5759663820209503, 1),\n",
       " (0.08075527674087186, 0),\n",
       " (0.10967559316663025, 0),\n",
       " (0.08070497869379287, 0),\n",
       " (0.05400909773221291, 0),\n",
       " (0.36974296982630583, 0),\n",
       " (0.05458505629459808, 0),\n",
       " (0.08092925370450023, 0),\n",
       " (0.9150313375181973, 1),\n",
       " (0.2635480747435682, 0),\n",
       " (0.08070878205594713, 0),\n",
       " (0.08086740698811101, 0),\n",
       " (0.11550217610250713, 0),\n",
       " (0.850162303174876, 1),\n",
       " (0.21287490155983035, 0),\n",
       " (0.08070878205594713, 0),\n",
       " (0.26981352924245156, 0),\n",
       " (0.14047686416651103, 0),\n",
       " (0.9098645208943461, 1),\n",
       " (0.06613778291586841, 0),\n",
       " (0.5685424236491669, 1),\n",
       " (0.13688687729407012, 0),\n",
       " (0.08194322186438971, 0),\n",
       " (0.5963964794048447, 1),\n",
       " (0.915818492686799, 1),\n",
       " (0.5411801329722489, 1),\n",
       " (0.10948321587961493, 0),\n",
       " (0.041822632396568755, 0),\n",
       " (0.08072706973365126, 0),\n",
       " (0.11530090221002982, 0),\n",
       " (0.8920416722181951, 1),\n",
       " (0.4863486775821528, 0),\n",
       " (0.11589932685655648, 0),\n",
       " (0.6414480757950844, 1),\n",
       " (0.6899238857014078, 1),\n",
       " (0.34959689067829736, 0),\n",
       " (0.10967559316663025, 0),\n",
       " (0.7284732191139212, 1),\n",
       " (0.800991970584303, 1),\n",
       " (0.05622519188272217, 0),\n",
       " (0.5390015290749894, 1),\n",
       " (0.08072706973365126, 0),\n",
       " (0.20957601318619618, 0),\n",
       " (0.6881207910581849, 1),\n",
       " (0.2480764621271104, 0),\n",
       " (0.19982883691121278, 0),\n",
       " (0.08072326558537381, 0),\n",
       " (0.9433241234024123, 1),\n",
       " (0.27699894346997084, 0),\n",
       " (0.7976261465899205, 1),\n",
       " (0.10969465463340158, 0),\n",
       " (0.08060903449897404, 0),\n",
       " (0.8766162774429299, 1),\n",
       " (0.19302452453221733, 0),\n",
       " (0.27849327139543295, 0),\n",
       " (0.06755984910261903, 0),\n",
       " (0.2471286067711661, 0),\n",
       " (0.08075527674087186, 0),\n",
       " (0.08072706973365126, 0),\n",
       " (0.08072706973365126, 0),\n",
       " (0.3366403493803448, 0),\n",
       " (0.3965029705976599, 0),\n",
       " (0.46177772515105314, 0),\n",
       " (0.4603157710790696, 0),\n",
       " (0.5238320784130478, 1),\n",
       " (0.08072706973365126, 0),\n",
       " (0.21287490155983035, 0),\n",
       " (0.11368507339402634, 0),\n",
       " (0.5250434668695498, 1),\n",
       " (0.03675103109470486, 0),\n",
       " (0.6746116780154618, 1),\n",
       " (0.11539415470681672, 0),\n",
       " (0.09268125611776067, 0),\n",
       " (0.12830549466153401, 0),\n",
       " (0.11561237691962438, 0),\n",
       " (0.06891397014675672, 0),\n",
       " (0.3232144612732121, 0),\n",
       " (0.08066384700400736, 0),\n",
       " (0.6691710336004838, 1),\n",
       " (0.09035273945721628, 0),\n",
       " (0.5319517041894051, 1),\n",
       " (0.08075527674087186, 0),\n",
       " (0.10967157426347743, 0),\n",
       " (0.3772145071078944, 0),\n",
       " (0.041822632396568755, 0),\n",
       " (0.08205453389002994, 0),\n",
       " (0.6071069959504968, 1),\n",
       " (0.8169021765686777, 1),\n",
       " (0.8575848347762532, 1),\n",
       " (0.19398607799909398, 0),\n",
       " (0.18902561567843226, 0),\n",
       " (0.9163918661210093, 1),\n",
       " (0.5862595759526583, 1),\n",
       " (0.0904033922903016, 0),\n",
       " (0.09007402744398733, 0),\n",
       " (0.8019723010672265, 1),\n",
       " (0.7335957845857815, 1),\n",
       " (0.08057251170913467, 0),\n",
       " (0.09035273945721628, 0),\n",
       " (0.8595544579238847, 1),\n",
       " (0.006490457845474454, 0),\n",
       " (0.08060903449897404, 0),\n",
       " (0.26235394804269985, 0),\n",
       " (0.9165600912575469, 1),\n",
       " (0.09007402744398733, 0),\n",
       " (0.7799108191165227, 1),\n",
       " (0.42046368186417876, 0),\n",
       " (0.29838567681462663, 0),\n",
       " (0.016817541342381104, 0),\n",
       " (0.08075527674087186, 0),\n",
       " (0.4441851265627372, 0),\n",
       " (0.13900677361518024, 0),\n",
       " (0.7585146314409338, 1),\n",
       " (0.374323996624205, 0),\n",
       " (0.10967559316663025, 0),\n",
       " (0.24534462434859883, 0),\n",
       " (0.13452425822837186, 0),\n",
       " (0.609465907961563, 1),\n",
       " (0.009619311486180691, 0),\n",
       " (0.06988889249792926, 0),\n",
       " (0.4262035927765138, 0),\n",
       " (0.4602545457528939, 0),\n",
       " (0.11553365272799113, 0),\n",
       " (0.0675136318949668, 0),\n",
       " (0.6255976701731073, 1),\n",
       " (0.597547838513502, 1),\n",
       " (0.8575848347762532, 1),\n",
       " (0.4829060010590096, 0),\n",
       " (0.36974296982630583, 0),\n",
       " (0.0662787259198488, 0),\n",
       " (0.07788739091226464, 0),\n",
       " (0.9508842582824171, 1),\n",
       " (0.15481134944961147, 0),\n",
       " (0.6872032762055982, 1),\n",
       " (0.942461545585936, 1),\n",
       " (0.21328815379220425, 0),\n",
       " (0.11550217610250713, 0),\n",
       " (0.4636183212641305, 0),\n",
       " (0.08072706973365126, 0),\n",
       " (0.36945585366134004, 0),\n",
       " (0.19398607799909398, 0),\n",
       " (0.13688687729407012, 0),\n",
       " (0.08070878205594713, 0),\n",
       " (0.44420703072362083, 0),\n",
       " (0.012247989865687833, 0),\n",
       " (0.11704107593021341, 0),\n",
       " (0.05465186693097465, 0),\n",
       " (0.5979687320558298, 1),\n",
       " (0.14063348908962828, 0),\n",
       " (0.44420703072362083, 0),\n",
       " (0.9179907158295159, 1),\n",
       " (0.6745688295201847, 1),\n",
       " (0.6745688295201847, 1),\n",
       " (0.18902561567843226, 0),\n",
       " (0.8575848347762532, 1),\n",
       " (0.43188195381066846, 0),\n",
       " (0.3210886313384851, 0),\n",
       " (0.08060903449897404, 0),\n",
       " (0.9383716788531462, 1),\n",
       " (0.4021073581656738, 0),\n",
       " (0.9170500161453127, 1),\n",
       " (0.948677897025961, 1),\n",
       " (0.6746387273292432, 1),\n",
       " (0.7335957845857815, 1),\n",
       " (0.7335957845857815, 1),\n",
       " (0.7817224120047397, 1),\n",
       " (0.8575848347762532, 1),\n",
       " (0.1656911328178633, 0),\n",
       " (0.6745688295201847, 1),\n",
       " (0.0009899727320322124, 0),\n",
       " (0.6745688295201847, 1),\n",
       " (0.9192801759262804, 1),\n",
       " (0.5922580930763786, 1)]"
      ]
     },
     "execution_count": 42,
     "metadata": {},
     "output_type": "execute_result"
    }
   ],
   "source": [
    "list(zip(y_porb1,y_pred))"
   ]
  },
  {
   "cell_type": "code",
   "execution_count": 43,
   "id": "90fdd3ba-c2dc-4931-ba74-a5d920c387f0",
   "metadata": {},
   "outputs": [],
   "source": [
    "from sklearn.metrics import roc_curve"
   ]
  },
  {
   "cell_type": "code",
   "execution_count": 44,
   "id": "8d011a85-e424-4790-99d5-3e77e71a0922",
   "metadata": {},
   "outputs": [],
   "source": [
    "tpr,fpr,t=roc_curve(y_test,y_porb1)"
   ]
  },
  {
   "cell_type": "code",
   "execution_count": 45,
   "id": "5b6db1c7-02e8-4c89-a459-89d13e212467",
   "metadata": {},
   "outputs": [
    {
     "data": {
      "text/plain": [
       "array([0.        , 0.01408451, 0.25352113, 0.30985915, 0.43661972,\n",
       "       0.47887324, 0.47887324, 0.49295775, 0.49295775, 0.52112676,\n",
       "       0.56338028, 0.57746479, 0.57746479, 0.61971831, 0.61971831,\n",
       "       0.66197183, 0.66197183, 0.67605634, 0.67605634, 0.69014085,\n",
       "       0.69014085, 0.71830986, 0.71830986, 0.71830986, 0.74647887,\n",
       "       0.74647887, 0.77464789, 0.77464789, 0.78873239, 0.78873239,\n",
       "       0.8028169 , 0.8028169 , 0.81690141, 0.81690141, 0.83098592,\n",
       "       0.83098592, 0.83098592, 0.83098592, 0.83098592, 0.83098592,\n",
       "       0.83098592, 0.83098592, 0.84507042, 0.84507042, 0.85915493,\n",
       "       0.85915493, 0.87323944, 0.87323944, 0.90140845, 0.90140845,\n",
       "       0.91549296, 0.91549296, 0.94366197, 0.94366197, 0.94366197,\n",
       "       0.94366197, 0.94366197, 0.95774648, 0.97183099, 0.97183099,\n",
       "       0.97183099, 0.97183099, 0.98591549, 0.98591549, 0.98591549,\n",
       "       0.98591549, 1.        , 1.        ])"
      ]
     },
     "execution_count": 45,
     "metadata": {},
     "output_type": "execute_result"
    }
   ],
   "source": [
    "fpr"
   ]
  },
  {
   "cell_type": "code",
   "execution_count": 46,
   "id": "bf25617e-a07b-46ef-9712-967e504349c7",
   "metadata": {},
   "outputs": [
    {
     "data": {
      "text/plain": [
       "array([0.        , 0.        , 0.        , 0.        , 0.        ,\n",
       "       0.        , 0.00925926, 0.00925926, 0.02777778, 0.02777778,\n",
       "       0.03703704, 0.03703704, 0.0462963 , 0.0462963 , 0.11111111,\n",
       "       0.11111111, 0.12037037, 0.12037037, 0.12962963, 0.12962963,\n",
       "       0.14814815, 0.14814815, 0.16666667, 0.21296296, 0.21296296,\n",
       "       0.22222222, 0.22222222, 0.24074074, 0.24074074, 0.26851852,\n",
       "       0.26851852, 0.32407407, 0.32407407, 0.33333333, 0.34259259,\n",
       "       0.36111111, 0.37962963, 0.38888889, 0.40740741, 0.41666667,\n",
       "       0.43518519, 0.46296296, 0.47222222, 0.48148148, 0.48148148,\n",
       "       0.51851852, 0.52777778, 0.56481481, 0.57407407, 0.60185185,\n",
       "       0.60185185, 0.61111111, 0.62962963, 0.66666667, 0.71296296,\n",
       "       0.76851852, 0.77777778, 0.7962963 , 0.7962963 , 0.80555556,\n",
       "       0.83333333, 0.88888889, 0.88888889, 0.93518519, 0.9537037 ,\n",
       "       0.99074074, 0.99074074, 1.        ])"
      ]
     },
     "execution_count": 46,
     "metadata": {},
     "output_type": "execute_result"
    }
   ],
   "source": [
    "tpr"
   ]
  },
  {
   "cell_type": "code",
   "execution_count": 47,
   "id": "3ab34b5f-e488-49c7-b611-2d4675507d28",
   "metadata": {},
   "outputs": [
    {
     "data": {
      "text/plain": [
       "array([1.95088426e+00, 9.50884258e-01, 8.59554458e-01, 8.57584835e-01,\n",
       "       7.58514631e-01, 7.33595785e-01, 7.28473219e-01, 6.89923886e-01,\n",
       "       6.87203276e-01, 6.74611678e-01, 6.74568830e-01, 6.69171034e-01,\n",
       "       6.41448076e-01, 6.07106996e-01, 5.68542424e-01, 5.31951704e-01,\n",
       "       5.25043467e-01, 5.23832078e-01, 4.86348678e-01, 4.82906001e-01,\n",
       "       4.61777725e-01, 4.60254546e-01, 4.44207031e-01, 4.02107358e-01,\n",
       "       3.77214507e-01, 3.74323997e-01, 3.69742970e-01, 3.49596891e-01,\n",
       "       3.36640349e-01, 2.98385677e-01, 2.78493271e-01, 2.47128607e-01,\n",
       "       2.45344624e-01, 2.13288154e-01, 2.12874902e-01, 1.99828837e-01,\n",
       "       1.93986078e-01, 1.93024525e-01, 1.89025616e-01, 1.65691133e-01,\n",
       "       1.54811349e-01, 1.39006774e-01, 1.36886877e-01, 1.34524258e-01,\n",
       "       1.28305495e-01, 1.15533653e-01, 1.15502176e-01, 1.09694655e-01,\n",
       "       1.09675593e-01, 1.05519055e-01, 9.26812561e-02, 9.04033923e-02,\n",
       "       9.00740274e-02, 8.08674070e-02, 8.07552767e-02, 8.07270697e-02,\n",
       "       8.07232656e-02, 8.07087821e-02, 8.07049787e-02, 8.06638470e-02,\n",
       "       8.06090345e-02, 6.75136319e-02, 6.62787259e-02, 5.40090977e-02,\n",
       "       4.18226324e-02, 9.61931149e-03, 6.49045785e-03, 9.89972732e-04])"
      ]
     },
     "execution_count": 47,
     "metadata": {},
     "output_type": "execute_result"
    }
   ],
   "source": [
    "t"
   ]
  },
  {
   "cell_type": "code",
   "execution_count": 48,
   "id": "86271c62-d01e-4396-806d-857c2e992efa",
   "metadata": {},
   "outputs": [
    {
     "data": {
      "text/plain": [
       "[<matplotlib.lines.Line2D at 0x2065d44d750>]"
      ]
     },
     "execution_count": 48,
     "metadata": {},
     "output_type": "execute_result"
    },
    {
     "data": {
      "image/png": "[encoded data removed]",
      "text/plain": [
       "<Figure size 432x288 with 1 Axes>"
      ]
     },
     "metadata": {
      "needs_background": "light"
     },
     "output_type": "display_data"
    }
   ],
   "source": [
    "plt.plot(tpr,fpr)"
   ]
  },
  {
   "cell_type": "code",
   "execution_count": 49,
   "id": "d0a1bf1f-598b-4dbd-8cba-83eb63f026c2",
   "metadata": {},
   "outputs": [],
   "source": [
    "from sklearn.metrics import auc"
   ]
  },
  {
   "cell_type": "code",
   "execution_count": 50,
   "id": "63f3ea82-a398-4981-a887-4edc708104e1",
   "metadata": {},
   "outputs": [
    {
     "data": {
      "text/plain": [
       "0.8425925925925926"
      ]
     },
     "execution_count": 50,
     "metadata": {},
     "output_type": "execute_result"
    }
   ],
   "source": [
    "auc(tpr,fpr)"
   ]
  },
  {
   "cell_type": "code",
   "execution_count": null,
   "id": "68fc88b6-b4f1-4cc4-b143-36c1bb5883cc",
   "metadata": {},
   "outputs": [],
   "source": []
  }
 ],
 "metadata": {
  "kernelspec": {
   "display_name": "Python 3 (ipykernel)",
   "language": "python",
   "name": "python3"
  },
  "language_info": {
   "codemirror_mode": {
    "name": "ipython",
    "version": 3
   },
   "file_extension": ".py",
   "mimetype": "text/x-python",
   "name": "python",
   "nbconvert_exporter": "python",
   "pygments_lexer": "ipython3",
   "version": "3.10.3"
  }
 },
 "nbformat": 4,
 "nbformat_minor": 5
}
